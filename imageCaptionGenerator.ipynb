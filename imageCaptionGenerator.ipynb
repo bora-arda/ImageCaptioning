{
 "cells": [
  {
   "cell_type": "code",
   "execution_count": null,
   "id": "2403edac-f9a0-4993-8383-4b4d2fb3a2ed",
   "metadata": {
    "executionInfo": {
     "elapsed": 12172,
     "status": "ok",
     "timestamp": 1756642305434,
     "user": {
      "displayName": "Bora Arda",
      "userId": "00460099685117681185"
     },
     "user_tz": -180
    },
    "id": "2403edac-f9a0-4993-8383-4b4d2fb3a2ed"
   },
   "outputs": [],
   "source": [
    "import os\n",
    "import numpy as np\n",
    "import pandas as pd\n",
    "from datasets import load_dataset\n",
    "from PIL import Image\n",
    "from tqdm import tqdm\n",
    "import re\n",
    "import cv2\n",
    "\n",
    "import torch\n",
    "import torch.nn as nn\n",
    "import torchvision\n",
    "import torchvision.transforms as T\n",
    "\n",
    "from skimage.io import imread\n",
    "from skimage.transform import resize\n",
    "from skimage.color import rgb2gray\n",
    "from skimage.feature import hog\n",
    "import matplotlib.pyplot as plt"
   ]
  },
  {
   "cell_type": "code",
   "execution_count": null,
   "id": "XDmx5yjHy_Ul",
   "metadata": {
    "colab": {
     "base_uri": "https://localhost:8080/"
    },
    "collapsed": true,
    "executionInfo": {
     "elapsed": 14668,
     "status": "ok",
     "timestamp": 1756623492390,
     "user": {
      "displayName": "Bora Arda",
      "userId": "00460099685117681185"
     },
     "user_tz": -180
    },
    "id": "XDmx5yjHy_Ul",
    "outputId": "60ea7267-f4cd-4792-82e3-e77efffd4b4d"
   },
   "outputs": [],
   "source": [
    "!pip install -U datasets"
   ]
  },
  {
   "cell_type": "code",
   "execution_count": null,
   "id": "hdV7pGvJOe_H",
   "metadata": {
    "id": "hdV7pGvJOe_H"
   },
   "outputs": [],
   "source": [
    "# from google.colab import drive\n",
    "# drive.mount('/content/drive')"
   ]
  },
  {
   "cell_type": "code",
   "execution_count": null,
   "id": "mn8NYE4ATEJB",
   "metadata": {
    "colab": {
     "base_uri": "https://localhost:8080/",
     "height": 1000
    },
    "collapsed": true,
    "executionInfo": {
     "elapsed": 76234,
     "status": "ok",
     "timestamp": 1756642382064,
     "user": {
      "displayName": "Bora Arda",
      "userId": "00460099685117681185"
     },
     "user_tz": -180
    },
    "id": "mn8NYE4ATEJB",
    "outputId": "568dca67-97de-4d44-b185-a9ae7e331dd1"
   },
   "outputs": [],
   "source": [
    "# Kaggle API upload\n",
    "from google.colab import files\n",
    "files.upload()\n",
    "!mkdir -p ~/.kaggle\n",
    "!cp kaggle.json ~/.kaggle/\n",
    "!chmod 600 ~/.kaggle/kaggle.json\n",
    "\n",
    "# Download dataset\n",
    "!kaggle competitions download obss-intern-competition-2025\n",
    "!unzip obss-intern-competition-2025.zip\n",
    "!rm -r obss-intern-competition-2025.zip"
   ]
  },
  {
   "cell_type": "code",
   "execution_count": null,
   "id": "1a73e9e5-7d2a-425d-ab2f-0666f74e2d7e",
   "metadata": {
    "colab": {
     "base_uri": "https://localhost:8080/",
     "height": 255,
     "referenced_widgets": [
      "e7c859e480f148f09e9804263b31ebe9",
      "42832af221f547b5ad490703a08139f7",
      "6d3a0958db41474fbd0afb2747fc6489",
      "6bdac5dc05d74016928d0320626231f0",
      "21ee7fbea1104d3a840b8a60a57ccb59",
      "945f84885e8045a79e20e0dd92feef8b",
      "8db2342e665140038d4fd40b51dcc40f",
      "1d1f2944836a4ee0a72dad5d6efe942a",
      "de65677674894d89a27e69d5f3a8579d",
      "02012fd672a44529be15e916f5ec9da1",
      "c5186366420d4368b2289087e35dd10e",
      "d95c3f8ebc044e3888c0cc39b7400c23",
      "927d815da5a74c1f993dc33a2333aa97",
      "5e9cfd77b0a84adab93a4d6d790a829c",
      "3d44a72f9c374fee9993feadc941d9ac",
      "ab6d2806ac9949a9b08e047a36428385",
      "c3df85de5c1847b5923c1d5ceaf87520",
      "e8b44887dd514a898b8eb749963bec9e",
      "a577987f95ca4938bc25a3ace4e7a746",
      "cd6be5b56fda408fbb689d56abe3a3e8",
      "68d23a236aba49f3963ba76cccd6afd4",
      "7cf76548a1cb4b7da81e0576625270c6"
     ]
    },
    "collapsed": true,
    "executionInfo": {
     "elapsed": 860,
     "status": "ok",
     "timestamp": 1756642407275,
     "user": {
      "displayName": "Bora Arda",
      "userId": "00460099685117681185"
     },
     "user_tz": -180
    },
    "id": "1a73e9e5-7d2a-425d-ab2f-0666f74e2d7e",
    "outputId": "db14774e-9d2a-4842-cacf-2b39bc2a60f4",
    "scrolled": true
   },
   "outputs": [],
   "source": [
    "from datasets import Dataset\n",
    "\n",
    "dataset = load_dataset(\n",
    "    \"csv\",\n",
    "    data_files={\n",
    "        \"train\": \"train.csv\",\n",
    "        \"test\": \"test.csv\"\n",
    "    }\n",
    ")\n",
    "\n",
    "print(dataset)"
   ]
  },
  {
   "cell_type": "code",
   "execution_count": null,
   "id": "v0FeyYvppxZE",
   "metadata": {
    "executionInfo": {
     "elapsed": 76,
     "status": "ok",
     "timestamp": 1756642408555,
     "user": {
      "displayName": "Bora Arda",
      "userId": "00460099685117681185"
     },
     "user_tz": -180
    },
    "id": "v0FeyYvppxZE"
   },
   "outputs": [],
   "source": [
    "class Tokenizer():\n",
    "  def __init__(self, caption_list, min_freq = 1, max_len = 35):\n",
    "    self.max_len = max_len\n",
    "    self.min_freq = min_freq\n",
    "    # self.word2idx = {}\n",
    "    # self.idx2word = {}\n",
    "\n",
    "    self.pad_token = '<PAD>'\n",
    "    self.start_token = '<START>'\n",
    "    self.end_token = '<END>'\n",
    "    self.unk_token = '<UNK>'\n",
    "    self.special_tokens = [self.start_token, self.end_token, self.pad_token, self.unk_token]\n",
    "\n",
    "    self.build_vocab(caption_list)\n",
    "\n",
    "  def build_vocab(self, caption_list):\n",
    "    token_counts = set()\n",
    "    for caption in caption_list:\n",
    "      tokens = self.tokenize(caption)\n",
    "      token_counts.update(tokens)\n",
    "\n",
    "    vocab_tokens = [token for token in token_counts if len(token) >= 1]\n",
    "    vocab_tokens = self.special_tokens + sorted(set(vocab_tokens))\n",
    "\n",
    "    self.word2idx = {word: idx for idx, word in enumerate(vocab_tokens)}\n",
    "    self.idx2word = {idx: word for word, idx in self.word2idx.items()}\n",
    "\n",
    "  def tokenize(self, text):\n",
    "    return text.lower().split()\n",
    "\n",
    "\n",
    "  def encode(self, caption):\n",
    "    tokens = [self.start_token] + self.tokenize(caption) + [self.end_token]\n",
    "    token_ids = [self.word2idx.get(t, self.word2idx[self.unk_token]) for t in tokens]\n",
    "\n",
    "    if len(token_ids) < self.max_len:\n",
    "      token_ids += [self.word2idx[self.pad_token]] * (self.max_len - len(token_ids))\n",
    "    else:\n",
    "      token_ids = token_ids[:self.max_len]\n",
    "\n",
    "    return token_ids\n",
    "\n",
    "  def decode(self, token_ids):\n",
    "    tokens = [self.idx2word.get(idx, self.unk_token) for idx in token_ids]\n",
    "\n",
    "    if self.end_token in tokens:\n",
    "      end_idx = tokens.index(self.end_token) + 1\n",
    "      tokens = tokens[:end_idx]\n",
    "    tokens = [t for t in tokens if t not in [self.pad_token]]\n",
    "    return \" \".join(tokens)\n",
    "\n",
    "  def vocab_size(self):\n",
    "    return len(self.word2idx)"
   ]
  },
  {
   "cell_type": "code",
   "execution_count": null,
   "id": "B5jSHoMPd96Q",
   "metadata": {
    "executionInfo": {
     "elapsed": 42,
     "status": "ok",
     "timestamp": 1756642410996,
     "user": {
      "displayName": "Bora Arda",
      "userId": "00460099685117681185"
     },
     "user_tz": -180
    },
    "id": "B5jSHoMPd96Q"
   },
   "outputs": [],
   "source": [
    "def extractHogFeatures(image_path):\n",
    "  image = cv2.imread(image_path, 0)\n",
    "\n",
    "  # Resize the image\n",
    "  resized_image = resize(image, (128*2, 128*2))\n",
    "\n",
    "  # Gray scaling\n",
    "  # gray_image = rgb2gray(resized_image)\n",
    "\n",
    "  features, hog_image = hog(\n",
    "      resized_image,\n",
    "      orientations = 9,\n",
    "      pixels_per_cell = (8, 8),\n",
    "      cells_per_block = (2,2),\n",
    "      block_norm = 'L2-Hys',\n",
    "      visualize = True,\n",
    "      feature_vector = True)\n",
    "  return features, hog_image"
   ]
  },
  {
   "cell_type": "code",
   "execution_count": null,
   "id": "8CuxtCxOqaq7",
   "metadata": {
    "colab": {
     "base_uri": "https://localhost:8080/"
    },
    "collapsed": true,
    "executionInfo": {
     "elapsed": 886,
     "status": "ok",
     "timestamp": 1756642422161,
     "user": {
      "displayName": "Bora Arda",
      "userId": "00460099685117681185"
     },
     "user_tz": -180
    },
    "id": "8CuxtCxOqaq7",
    "outputId": "d62676c5-e904-4d4e-9a61-fe04a319bab1"
   },
   "outputs": [],
   "source": [
    "tokenizer = Tokenizer(dataset[\"train\"][:500][\"caption\"])\n",
    "caption_list = dataset['train'][:500]['caption']\n",
    "\n",
    "ids = [tokenizer.encode(caption) for caption in caption_list]\n",
    "decoded = [tokenizer.decode(id) for id in ids]\n",
    "tensor_ids = torch.tensor(ids).unsqueeze(0)\n",
    "embedding = nn.Embedding(num_embeddings=tokenizer.vocab_size(), embedding_dim = 50)\n",
    "embedded_ids = embedding(tensor_ids[:, :-1])\n",
    "print(f\"Captions: {caption_list}\")\n",
    "print(f\"Token IDs: {ids}\")\n",
    "print(f\"Decoded: {decoded}\")\n",
    "print(f\"Length: {tokenizer.vocab_size()}\")\n",
    "print(f\"Shape: {len(ids)}\")\n",
    "print(f\"Tensor IDs: {tensor_ids}\")\n",
    "print(f\"Embedding: {embedded_ids.shape}\")"
   ]
  },
  {
   "cell_type": "code",
   "execution_count": null,
   "id": "NMg_N7ZRkSJQ",
   "metadata": {
    "executionInfo": {
     "elapsed": 16,
     "status": "ok",
     "timestamp": 1756642432023,
     "user": {
      "displayName": "Bora Arda",
      "userId": "00460099685117681185"
     },
     "user_tz": -180
    },
    "id": "NMg_N7ZRkSJQ"
   },
   "outputs": [],
   "source": [
    "class CaptionDataset(torch.utils.data.Dataset):\n",
    "  def __init__(self, csv_data, image_dir, tokenizer, transform=None):\n",
    "    self.image_ids = csv_data['image_id']\n",
    "    self.captions = csv_data['caption']\n",
    "    self.image_dir = image_dir\n",
    "    self.tokenizer = tokenizer\n",
    "\n",
    "  def __len__(self):\n",
    "    return len(self.image_ids)\n",
    "\n",
    "  def __getitem__(self, idx):\n",
    "    # Load image and extract HOG features\n",
    "    image_path = f\"{self.image_dir}/{self.image_ids[idx]}.jpg\"\n",
    "    hog_features, _ = extractHogFeatures(image_path)\n",
    "\n",
    "    # Tokenize caption\n",
    "    caption_tokens = self.tokenizer.encode(self.captions[idx])\n",
    "\n",
    "    # Create input (without last token) and target (without first token)\n",
    "    input_seq = caption_tokens[:-1] # [START, word1, word2, ...]\n",
    "    target_seq = caption_tokens[1:] # [word1, word2, ..., END]\n",
    "\n",
    "    return {\n",
    "        'hog_features': torch.tensor(hog_features, dtype=torch.float32),\n",
    "        'input_seq': torch.tensor(input_seq, dtype = torch.long),\n",
    "        'target_seq': torch.tensor(target_seq, dtype = torch.long)\n",
    "    }"
   ]
  },
  {
   "cell_type": "code",
   "execution_count": null,
   "id": "8RngYkmeT9wU",
   "metadata": {
    "executionInfo": {
     "elapsed": 9,
     "status": "ok",
     "timestamp": 1756642434304,
     "user": {
      "displayName": "Bora Arda",
      "userId": "00460099685117681185"
     },
     "user_tz": -180
    },
    "id": "8RngYkmeT9wU"
   },
   "outputs": [],
   "source": [
    "class LSTM(nn.Module):\n",
    "  def __init__(self, embedding_dim, hidden_size, vocab_size, hog_dim, num_layers=2):\n",
    "    super(LSTM, self).__init__()\n",
    "    self.num_layers = num_layers\n",
    "    self.embedding = nn.Embedding(vocab_size, embedding_dim)\n",
    "    self.hog_to_h0 = nn.Linear(hog_dim, hidden_size)\n",
    "    self.hog_to_c0 = nn.Linear(hog_dim, hidden_size)\n",
    "\n",
    "\n",
    "    self.lstm = nn.LSTM(input_size = embedding_dim,\n",
    "                        hidden_size = hidden_size,\n",
    "                        num_layers = num_layers,\n",
    "                        batch_first = True)\n",
    "\n",
    "    self.fc_out = nn.Linear(hidden_size, vocab_size)\n",
    "\n",
    "\n",
    "  def forward(self, input_seq, hog_features):\n",
    "    embeddings = self.embedding(input_seq)\n",
    "\n",
    "    h0 = self.hog_to_h0(hog_features)\n",
    "    h0 = h0.unsqueeze(0).repeat(self.num_layers, 1, 1)\n",
    "    c0 = self.hog_to_c0(hog_features)\n",
    "    c0 = c0.unsqueeze(0).repeat(self.num_layers, 1, 1)\n",
    "\n",
    "    lstm_out, _ = self.lstm(embeddings, (h0, c0))\n",
    "    outputs = self.fc_out(lstm_out)\n",
    "    return outputs"
   ]
  },
  {
   "cell_type": "code",
   "execution_count": null,
   "id": "guJTicYt_QgG",
   "metadata": {
    "collapsed": true,
    "executionInfo": {
     "elapsed": 9,
     "status": "ok",
     "timestamp": 1756642437706,
     "user": {
      "displayName": "Bora Arda",
      "userId": "00460099685117681185"
     },
     "user_tz": -180
    },
    "id": "guJTicYt_QgG"
   },
   "outputs": [],
   "source": [
    "def collate_fn(batch):\n",
    "    \"\"\"Custom collate function to handle variable-length sequences\"\"\"\n",
    "    hog_features = torch.stack([item['hog_features'] for item in batch])\n",
    "    input_seqs = torch.stack([item['input_seq'] for item in batch])\n",
    "    target_seqs = torch.stack([item['target_seq'] for item in batch])\n",
    "\n",
    "    return {\n",
    "        'hog_features': hog_features,\n",
    "        'input_seqs': input_seqs,\n",
    "        'target_seqs': target_seqs\n",
    "    }\n",
    "\n",
    "# Create datasets\n",
    "train_dataset = CaptionDataset(dataset['train'], './train/train', tokenizer)\n",
    "# train_loader = torch.utils.data.DataLoader(\n",
    "#     train_dataset,\n",
    "#     batch_size=8,\n",
    "#     shuffle=True,\n",
    "#     collate_fn=collate_fn\n",
    "# )\n"
   ]
  },
  {
   "cell_type": "code",
   "execution_count": null,
   "id": "onZ_kttUNkJy",
   "metadata": {
    "executionInfo": {
     "elapsed": 47,
     "status": "ok",
     "timestamp": 1756642442628,
     "user": {
      "displayName": "Bora Arda",
      "userId": "00460099685117681185"
     },
     "user_tz": -180
    },
    "id": "onZ_kttUNkJy"
   },
   "outputs": [],
   "source": [
    "def train_model(model, train_loader, num_epochs = 10):\n",
    "  device = torch.device('cuda' if torch.cuda.is_available() else 'cpu')\n",
    "  model = model.to(device)\n",
    "\n",
    "  criterion = nn.CrossEntropyLoss(ignore_index = tokenizer.word2idx['<PAD>'])\n",
    "  optimizer = torch.optim.Adam(model.parameters(), lr = 0.001)\n",
    "\n",
    "  model.train()\n",
    "  for epoch in range(num_epochs):\n",
    "    total_loss = 0\n",
    "    for batch_idx, batch in enumerate(train_loader):\n",
    "      hog_features = batch['hog_features'].to(device)\n",
    "      input_seqs = batch['input_seqs'].to(device)\n",
    "      target_seqs = batch['target_seqs'].to(device)\n",
    "\n",
    "      optimizer.zero_grad()\n",
    "      outputs = model(input_seqs, hog_features)\n",
    "\n",
    "      # Calculate loss\n",
    "      # Reshape for loss calculation\n",
    "      loss = criterion(\n",
    "          outputs.reshape(-1, outputs.size(-1)),\n",
    "          target_seqs.reshape(-1)\n",
    "      )\n",
    "\n",
    "      # Backward pass\n",
    "      loss.backward()\n",
    "      optimizer.step()\n",
    "\n",
    "      total_loss += loss.item()\n",
    "\n",
    "      if batch_idx % 10 == 0:\n",
    "        print(f\"Epoch: {epoch+1}/{num_epochs}, Batch: {batch_idx}/{len(train_loader)}, Loss: {loss.item():.4f}\")\n",
    "\n",
    "    print(f\"Epoch {epoch} completed, Average loss: {total_loss/len(train_loader):.4f}\")\n",
    "  return model"
   ]
  },
  {
   "cell_type": "code",
   "execution_count": null,
   "id": "_GBXeLqLRm53",
   "metadata": {
    "executionInfo": {
     "elapsed": 19,
     "status": "ok",
     "timestamp": 1756642445094,
     "user": {
      "displayName": "Bora Arda",
      "userId": "00460099685117681185"
     },
     "user_tz": -180
    },
    "id": "_GBXeLqLRm53"
   },
   "outputs": [],
   "source": [
    "def save_model(model, tokenizer, path = 'caption_model.pth'):\n",
    "  torch.save({\n",
    "      'model_state_dict': model.state_dict(),\n",
    "      'tokenizer': tokenizer,\n",
    "      'vocab_size': tokenizer.vocab_size(),\n",
    "  }, path)\n",
    "\n",
    "def load_model(path, embedding_dim, hidden_size, hog_dim):\n",
    "  checkpoint = torch.load(path)\n",
    "  tokenizer = checkpoint['tokenizer']\n",
    "\n",
    "  model = LSTM(embedding_dim, hidden_size, checkpoint['vocab_size'], hog_dim)\n",
    "  model.load_state_dict(checkpoint['model_state_dict'])\n",
    "\n",
    "  return model, tokenizer"
   ]
  },
  {
   "cell_type": "code",
   "execution_count": null,
   "id": "OSMubTsPTIPZ",
   "metadata": {
    "executionInfo": {
     "elapsed": 31,
     "status": "ok",
     "timestamp": 1756642446316,
     "user": {
      "displayName": "Bora Arda",
      "userId": "00460099685117681185"
     },
     "user_tz": -180
    },
    "id": "OSMubTsPTIPZ"
   },
   "outputs": [],
   "source": [
    "def validate_model(model, val_loader):\n",
    "  model.eval()\n",
    "  total_loss = 0\n",
    "  criterion = nn.CrossEntropyLoss(ignore_index = tokenizer.word2idx['<PAD>'])\n",
    "\n",
    "  with torch.no_grad():\n",
    "    for batch in val_loader:\n",
    "      outputs = model(batch['input_seqs'], batch['hog_features'])\n",
    "      loss = criterion(\n",
    "          outputs.reshape(-1, outputs.size(-1)),\n",
    "          batch['target_seqs'].reshape(-1)\n",
    "      )\n",
    "      total_loss += loss.item()\n",
    "\n",
    "  return total_loss / len(val_loader)"
   ]
  },
  {
   "cell_type": "code",
   "execution_count": null,
   "id": "c5EoFLde9jCM",
   "metadata": {
    "executionInfo": {
     "elapsed": 57,
     "status": "ok",
     "timestamp": 1756643028392,
     "user": {
      "displayName": "Bora Arda",
      "userId": "00460099685117681185"
     },
     "user_tz": -180
    },
    "id": "c5EoFLde9jCM"
   },
   "outputs": [],
   "source": [
    "def generate_caption(model, hog_features, word2idx, idx2word, max_len=35, device=None):\n",
    "    model.eval()\n",
    "\n",
    "    # Get device from model if not specified\n",
    "    if device is None:\n",
    "        device = next(model.parameters()).device\n",
    "\n",
    "    # Ensure model is on the correct device\n",
    "    model = model.to(device)\n",
    "\n",
    "    # Move HOG features to device\n",
    "    hog_features = hog_features.to(device)\n",
    "\n",
    "    # Initialize caption with START token\n",
    "    generated = [word2idx['<START>']]\n",
    "\n",
    "    # Generate initial hidden states from HOG features\n",
    "    h0 = model.hog_to_h0(hog_features)\n",
    "    h0 = h0.unsqueeze(0).repeat(model.lstm.num_layers, 1, 1)\n",
    "\n",
    "    c0 = model.hog_to_c0(hog_features)\n",
    "    c0 = c0.unsqueeze(0).repeat(model.lstm.num_layers, 1, 1)\n",
    "\n",
    "    # Ensure hidden states are on the correct device\n",
    "    h0 = h0.to(device)\n",
    "    c0 = c0.to(device)\n",
    "\n",
    "    hidden = (h0, c0)\n",
    "\n",
    "    with torch.no_grad():\n",
    "        for _ in range(max_len):\n",
    "            # Create input token tensor on the correct device\n",
    "            input_token = torch.tensor([[generated[-1]]], dtype=torch.long, device=device)\n",
    "\n",
    "            # Embed the token\n",
    "            embed = model.embedding(input_token)\n",
    "\n",
    "            # Pass through LSTM\n",
    "            lstm_out, hidden = model.lstm(embed, hidden)\n",
    "\n",
    "            # Get next token prediction\n",
    "            output = model.fc_out(lstm_out.squeeze(1))\n",
    "            next_token = output.argmax(dim=1).item()\n",
    "\n",
    "            # Stop if END token is generated\n",
    "            if next_token == word2idx['<END>']:\n",
    "                break\n",
    "\n",
    "            generated.append(next_token)\n",
    "\n",
    "    # Convert indices to words (skip START token)\n",
    "    words = [idx2word[idx] for idx in generated[1:]]\n",
    "    return ' '.join(words)"
   ]
  },
  {
   "cell_type": "code",
   "execution_count": null,
   "id": "rIkp1M67cOwM",
   "metadata": {
    "executionInfo": {
     "elapsed": 15,
     "status": "ok",
     "timestamp": 1756643030678,
     "user": {
      "displayName": "Bora Arda",
      "userId": "00460099685117681185"
     },
     "user_tz": -180
    },
    "id": "rIkp1M67cOwM"
   },
   "outputs": [],
   "source": [
    "from torch.utils.data import Subset, DataLoader\n",
    "\n",
    "train_data = Subset(train_dataset, range(495))\n",
    "\n",
    "test_data = Subset(train_dataset, range(495, 500))"
   ]
  },
  {
   "cell_type": "code",
   "execution_count": null,
   "id": "GNHBKxugcoKM",
   "metadata": {
    "executionInfo": {
     "elapsed": 6,
     "status": "ok",
     "timestamp": 1756643046543,
     "user": {
      "displayName": "Bora Arda",
      "userId": "00460099685117681185"
     },
     "user_tz": -180
    },
    "id": "GNHBKxugcoKM"
   },
   "outputs": [],
   "source": [
    "train_loader = DataLoader(train_data, batch_size = 8, shuffle=True, collate_fn=collate_fn)\n",
    "test_loader = DataLoader(test_data, batch_size = 1, shuffle=False, collate_fn=collate_fn)"
   ]
  },
  {
   "cell_type": "code",
   "execution_count": null,
   "id": "B2xmbJbtZdjv",
   "metadata": {
    "colab": {
     "base_uri": "https://localhost:8080/"
    },
    "executionInfo": {
     "elapsed": 70912,
     "status": "ok",
     "timestamp": 1756643420139,
     "user": {
      "displayName": "Bora Arda",
      "userId": "00460099685117681185"
     },
     "user_tz": -180
    },
    "id": "B2xmbJbtZdjv",
    "outputId": "67772451-b826-4df3-b558-7837d0c6c776"
   },
   "outputs": [],
   "source": [
    "# Define dimensions\n",
    "embedding_dim = 50\n",
    "hidden_size = 128\n",
    "hog_dim = len(train_data[0]['hog_features'])\n",
    "vocab_size = tokenizer.vocab_size()\n",
    "\n",
    "# Init model\n",
    "model = LSTM(embedding_dim, hidden_size, tokenizer.vocab_size(), hog_dim, num_layers=2)\n",
    "device = next(model.parameters()).device\n",
    "model = model.to(device)\n",
    "\n",
    "# Train for 1 epoch\n",
    "model = train_model(model, train_loader, num_epochs=5)\n",
    "\n",
    "# Test generation\n",
    "for batch in test_loader:\n",
    "    hog_feat = batch['hog_features'].to(device)\n",
    "    caption = generate_caption(model, hog_feat, tokenizer.word2idx, tokenizer.idx2word, device = device)\n",
    "    print(\"Generated Caption:\", caption)\n"
   ]
  },
  {
   "cell_type": "code",
   "execution_count": null,
   "id": "mY7vZcXOsfUV",
   "metadata": {
    "colab": {
     "base_uri": "https://localhost:8080/"
    },
    "executionInfo": {
     "elapsed": 710,
     "status": "ok",
     "timestamp": 1756643483837,
     "user": {
      "displayName": "Bora Arda",
      "userId": "00460099685117681185"
     },
     "user_tz": -180
    },
    "id": "mY7vZcXOsfUV",
    "outputId": "2778b1d5-45fa-4a1b-f934-a202fb1961cd"
   },
   "outputs": [],
   "source": [
    "caption = list()\n",
    "for batch in test_loader:\n",
    "    hog_feat = batch['hog_features']\n",
    "    caption.append(generate_caption(model, hog_feat, tokenizer.word2idx, tokenizer.idx2word, device = device))\n",
    "    for c in caption:\n",
    "      print(c)\n"
   ]
  },
  {
   "cell_type": "code",
   "execution_count": null,
   "id": "F8Kl6fewozd_",
   "metadata": {
    "colab": {
     "base_uri": "https://localhost:8080/"
    },
    "executionInfo": {
     "elapsed": 4,
     "status": "ok",
     "timestamp": 1756418981800,
     "user": {
      "displayName": "Bora Arda",
      "userId": "00460099685117681185"
     },
     "user_tz": -180
    },
    "id": "F8Kl6fewozd_",
    "outputId": "45d46f9f-7699-4e9b-d4e7-b08f4bbb7fc3"
   },
   "outputs": [],
   "source": [
    "all_tokens = set()\n",
    "for c in caption:\n",
    "    tokens = tokenizer.tokenize(c)\n",
    "    all_tokens.update(tokens)\n",
    "\n",
    "print(\"All tokens in dataset:\")\n",
    "print(all_tokens)"
   ]
  },
  {
   "cell_type": "code",
   "execution_count": null,
   "id": "bCrcvipUpBsu",
   "metadata": {
    "colab": {
     "base_uri": "https://localhost:8080/",
     "height": 36
    },
    "executionInfo": {
     "elapsed": 13,
     "status": "ok",
     "timestamp": 1756418558917,
     "user": {
      "displayName": "Bora Arda",
      "userId": "00460099685117681185"
     },
     "user_tz": -180
    },
    "id": "bCrcvipUpBsu",
    "outputId": "fa52e801-696e-4261-f884-50c339e08c10"
   },
   "outputs": [],
   "source": []
  },
  {
   "cell_type": "code",
   "execution_count": null,
   "id": "5YNjOHfyQhBU",
   "metadata": {
    "id": "5YNjOHfyQhBU"
   },
   "outputs": [],
   "source": [
    "features, hog_image = extractHogFeatures(\"./town.jpg\")"
   ]
  },
  {
   "cell_type": "code",
   "execution_count": null,
   "id": "9zvkJLy7Qsah",
   "metadata": {
    "colab": {
     "base_uri": "https://localhost:8080/",
     "height": 452
    },
    "collapsed": true,
    "executionInfo": {
     "elapsed": 2167,
     "status": "ok",
     "timestamp": 1756386309400,
     "user": {
      "displayName": "Bora Arda",
      "userId": "00460099685117681185"
     },
     "user_tz": -180
    },
    "id": "9zvkJLy7Qsah",
    "outputId": "d1419e5d-5ba9-4f46-a250-e04c5194e953"
   },
   "outputs": [],
   "source": [
    "plt.imshow(hog_image, cmap = 'gray')"
   ]
  },
  {
   "cell_type": "code",
   "execution_count": null,
   "id": "W0Et8E_AVF4S",
   "metadata": {
    "colab": {
     "base_uri": "https://localhost:8080/"
    },
    "executionInfo": {
     "elapsed": 13,
     "status": "ok",
     "timestamp": 1756389924571,
     "user": {
      "displayName": "Bora Arda",
      "userId": "00460099685117681185"
     },
     "user_tz": -180
    },
    "id": "W0Et8E_AVF4S",
    "outputId": "8cf46e23-663f-4656-bced-b7c23191361c"
   },
   "outputs": [],
   "source": [
    "print(features)"
   ]
  },
  {
   "cell_type": "code",
   "execution_count": null,
   "id": "1v32YUKX0VHE",
   "metadata": {
    "id": "1v32YUKX0VHE"
   },
   "outputs": [],
   "source": [
    "# class LSTM_(nn.Module):\n",
    "#   def __init__(self, embedding_size, hidden_size, num_layers, hog_features , vocab_size):\n",
    "#     super(LSTM_, self).__init__()\n",
    "\n",
    "#     self.hidden_size = hidden_size\n",
    "#     self.num_layers = num_layers\n",
    "\n",
    "#     self.lstm = nn.LSTM(embedding_size, hidden_size, num_layers, batch_first = True)\n",
    "\n",
    "#     self.embedding = nn.Embedding(vocab_size, embedding_size)\n",
    "\n",
    "#     self.init_h = nn.Linear(hog_features, hidden_size)\n",
    "#     self.init_c = nn.Linear(hog_features, hidden_size)\n",
    "\n",
    "#     self.fc_out = nn.Linear(hidden_size, vocab_size)\n",
    "\n",
    "#   def forward(self, captions, hog_features):\n",
    "#     embeddings = self.embedding(captions)\n",
    "#     h0 = self.init_h(hog_features).unsqueeze(0)\n",
    "#     c0 = self.init_c(hog_features).unsqueeze(0)\n",
    "#     # Forward propagate LSTM\n",
    "#     out, _ = self.lstm(captions, (h0, c0))\n",
    "#     # Predict next states for all time steps\n",
    "#     out = self.fc_out(out)\n",
    "#     return out\n"
   ]
  },
  {
   "cell_type": "code",
   "execution_count": null,
   "id": "tGbXQjSU1B3H",
   "metadata": {
    "colab": {
     "base_uri": "https://localhost:8080/"
    },
    "collapsed": true,
    "executionInfo": {
     "elapsed": 4050,
     "status": "ok",
     "timestamp": 1752150679369,
     "user": {
      "displayName": "Bora Arda",
      "userId": "00460099685117681185"
     },
     "user_tz": -180
    },
    "id": "tGbXQjSU1B3H",
    "outputId": "7542ed5d-3f93-48a6-bb73-14aa78d9b2c1"
   },
   "outputs": [],
   "source": [
    "features = list()\n",
    "total_images = dataset['train'].shape\n",
    "for image in dataset['train'][:30]['image_id']:\n",
    "  hog_features, _ = extractHogFeatures(f'./train/train/{image}.jpg')\n",
    "  features.append(hog_features)\n",
    "  if image % 10 == 0:\n",
    "    print(f\"Image: {image}/{total_images}\")"
   ]
  },
  {
   "cell_type": "code",
   "execution_count": null,
   "id": "JQbQG9c83lXo",
   "metadata": {
    "colab": {
     "base_uri": "https://localhost:8080/"
    },
    "executionInfo": {
     "elapsed": 72,
     "status": "ok",
     "timestamp": 1752150888741,
     "user": {
      "displayName": "Bora Arda",
      "userId": "00460099685117681185"
     },
     "user_tz": -180
    },
    "id": "JQbQG9c83lXo",
    "outputId": "234b8b96-807a-4c62-a854-90f559bb51d0"
   },
   "outputs": [],
   "source": [
    "features_t = np.array(features)\n",
    "features_t = torch.tensor([features_t], dtype=torch.float32)\n",
    "features_t.shape"
   ]
  },
  {
   "cell_type": "code",
   "execution_count": null,
   "id": "K0Lb_OKVfbZe",
   "metadata": {
    "colab": {
     "base_uri": "https://localhost:8080/",
     "height": 470
    },
    "collapsed": true,
    "executionInfo": {
     "elapsed": 1726,
     "status": "ok",
     "timestamp": 1752097082526,
     "user": {
      "displayName": "Bora Arda",
      "userId": "00460099685117681185"
     },
     "user_tz": -180
    },
    "id": "K0Lb_OKVfbZe",
    "outputId": "7318391f-8981-4286-ecb8-fca1f5e53da2"
   },
   "outputs": [],
   "source": [
    "hog_features, hog_image = extractHogFeatures('./train/train/11.jpg')\n",
    "hog_features = np.array(hog_features)\n",
    "hog_features = torch.tensor([hog_features], dtype=torch.float32)\n",
    "hog_features.shape\n",
    "print(hog_features.shape)\n",
    "plt.imshow(hog_image, cmap = 'gray')\n",
    "print(dataset['train'][11]['caption'])"
   ]
  },
  {
   "cell_type": "code",
   "execution_count": null,
   "id": "-SRpdz1uES4r",
   "metadata": {
    "id": "-SRpdz1uES4r"
   },
   "outputs": [],
   "source": []
  },
  {
   "cell_type": "code",
   "execution_count": null,
   "id": "kGoVi-tiKM-K",
   "metadata": {
    "id": "kGoVi-tiKM-K"
   },
   "outputs": [],
   "source": [
    "tokenizer = Tokenizer(dataset[\"train\"][:1000][\"caption\"])\n",
    "input_ids = list()\n",
    "for caption in dataset['train'][:1000]['caption']:\n",
    "  i = tokenizer.encode(caption)\n",
    "  input_ids.append(i)\n",
    "input_ids = torch.tensor(input_ids)\n",
    "tensor_ids = torch.tensor(ids).unsqueeze(0)"
   ]
  },
  {
   "cell_type": "code",
   "execution_count": null,
   "id": "n3AuVgoJLW2P",
   "metadata": {
    "colab": {
     "base_uri": "https://localhost:8080/"
    },
    "executionInfo": {
     "elapsed": 29,
     "status": "ok",
     "timestamp": 1752100802618,
     "user": {
      "displayName": "Bora Arda",
      "userId": "00460099685117681185"
     },
     "user_tz": -180
    },
    "id": "n3AuVgoJLW2P",
    "outputId": "34f37f77-d6bf-470b-9d24-75e1d8c2b5d8"
   },
   "outputs": [],
   "source": [
    "tensor_ids.shape"
   ]
  },
  {
   "cell_type": "code",
   "execution_count": null,
   "id": "bgbV90gwVJvM",
   "metadata": {
    "id": "bgbV90gwVJvM"
   },
   "outputs": [],
   "source": [
    "embedding_dim = 50\n",
    "hidden_size = 256\n",
    "vocab_size = tokenizer.vocab_size()\n",
    "hog_dim = features_t.shape[1]\n",
    "model = LSTM(embedding_dim, hidden_size, vocab_size, hog_dim)"
   ]
  },
  {
   "cell_type": "code",
   "execution_count": null,
   "id": "G9UN8MjG9SeC",
   "metadata": {
    "colab": {
     "base_uri": "https://localhost:8080/",
     "height": 321
    },
    "collapsed": true,
    "executionInfo": {
     "elapsed": 231,
     "status": "error",
     "timestamp": 1752100808256,
     "user": {
      "displayName": "Bora Arda",
      "userId": "00460099685117681185"
     },
     "user_tz": -180
    },
    "id": "G9UN8MjG9SeC",
    "outputId": "cb6b853d-db7e-45f1-acda-510dbf11c44f"
   },
   "outputs": [],
   "source": [
    "criterion = nn.CrossEntropyLoss()\n",
    "outputs = model(tensor_ids, features_t)\n",
    "loss = criterion(outputs.view(-1, vocab_size), tensor_ids.view(-1))"
   ]
  }
 ],
 "metadata": {
  "accelerator": "GPU",
  "colab": {
   "gpuType": "T4",
   "provenance": []
  },
  "kernelspec": {
   "display_name": "Python 3",
   "name": "python3"
  },
  "language_info": {
   "codemirror_mode": {
    "name": "ipython",
    "version": 3
   },
   "file_extension": ".py",
   "mimetype": "text/x-python",
   "name": "python",
   "nbconvert_exporter": "python",
   "pygments_lexer": "ipython3",
   "version": "3.11.1"
  },
  "widgets": {
   "application/vnd.jupyter.widget-state+json": {
    "02012fd672a44529be15e916f5ec9da1": {
     "model_module": "@jupyter-widgets/base",
     "model_module_version": "1.2.0",
     "model_name": "LayoutModel",
     "state": {
      "_model_module": "@jupyter-widgets/base",
      "_model_module_version": "1.2.0",
      "_model_name": "LayoutModel",
      "_view_count": null,
      "_view_module": "@jupyter-widgets/base",
      "_view_module_version": "1.2.0",
      "_view_name": "LayoutView",
      "align_content": null,
      "align_items": null,
      "align_self": null,
      "border": null,
      "bottom": null,
      "display": null,
      "flex": null,
      "flex_flow": null,
      "grid_area": null,
      "grid_auto_columns": null,
      "grid_auto_flow": null,
      "grid_auto_rows": null,
      "grid_column": null,
      "grid_gap": null,
      "grid_row": null,
      "grid_template_areas": null,
      "grid_template_columns": null,
      "grid_template_rows": null,
      "height": null,
      "justify_content": null,
      "justify_items": null,
      "left": null,
      "margin": null,
      "max_height": null,
      "max_width": null,
      "min_height": null,
      "min_width": null,
      "object_fit": null,
      "object_position": null,
      "order": null,
      "overflow": null,
      "overflow_x": null,
      "overflow_y": null,
      "padding": null,
      "right": null,
      "top": null,
      "visibility": null,
      "width": null
     }
    },
    "1d1f2944836a4ee0a72dad5d6efe942a": {
     "model_module": "@jupyter-widgets/base",
     "model_module_version": "1.2.0",
     "model_name": "LayoutModel",
     "state": {
      "_model_module": "@jupyter-widgets/base",
      "_model_module_version": "1.2.0",
      "_model_name": "LayoutModel",
      "_view_count": null,
      "_view_module": "@jupyter-widgets/base",
      "_view_module_version": "1.2.0",
      "_view_name": "LayoutView",
      "align_content": null,
      "align_items": null,
      "align_self": null,
      "border": null,
      "bottom": null,
      "display": null,
      "flex": null,
      "flex_flow": null,
      "grid_area": null,
      "grid_auto_columns": null,
      "grid_auto_flow": null,
      "grid_auto_rows": null,
      "grid_column": null,
      "grid_gap": null,
      "grid_row": null,
      "grid_template_areas": null,
      "grid_template_columns": null,
      "grid_template_rows": null,
      "height": null,
      "justify_content": null,
      "justify_items": null,
      "left": null,
      "margin": null,
      "max_height": null,
      "max_width": null,
      "min_height": null,
      "min_width": null,
      "object_fit": null,
      "object_position": null,
      "order": null,
      "overflow": null,
      "overflow_x": null,
      "overflow_y": null,
      "padding": null,
      "right": null,
      "top": null,
      "visibility": null,
      "width": "20px"
     }
    },
    "21ee7fbea1104d3a840b8a60a57ccb59": {
     "model_module": "@jupyter-widgets/base",
     "model_module_version": "1.2.0",
     "model_name": "LayoutModel",
     "state": {
      "_model_module": "@jupyter-widgets/base",
      "_model_module_version": "1.2.0",
      "_model_name": "LayoutModel",
      "_view_count": null,
      "_view_module": "@jupyter-widgets/base",
      "_view_module_version": "1.2.0",
      "_view_name": "LayoutView",
      "align_content": null,
      "align_items": null,
      "align_self": null,
      "border": null,
      "bottom": null,
      "display": null,
      "flex": null,
      "flex_flow": null,
      "grid_area": null,
      "grid_auto_columns": null,
      "grid_auto_flow": null,
      "grid_auto_rows": null,
      "grid_column": null,
      "grid_gap": null,
      "grid_row": null,
      "grid_template_areas": null,
      "grid_template_columns": null,
      "grid_template_rows": null,
      "height": null,
      "justify_content": null,
      "justify_items": null,
      "left": null,
      "margin": null,
      "max_height": null,
      "max_width": null,
      "min_height": null,
      "min_width": null,
      "object_fit": null,
      "object_position": null,
      "order": null,
      "overflow": null,
      "overflow_x": null,
      "overflow_y": null,
      "padding": null,
      "right": null,
      "top": null,
      "visibility": null,
      "width": null
     }
    },
    "3d44a72f9c374fee9993feadc941d9ac": {
     "model_module": "@jupyter-widgets/controls",
     "model_module_version": "1.5.0",
     "model_name": "HTMLModel",
     "state": {
      "_dom_classes": [],
      "_model_module": "@jupyter-widgets/controls",
      "_model_module_version": "1.5.0",
      "_model_name": "HTMLModel",
      "_view_count": null,
      "_view_module": "@jupyter-widgets/controls",
      "_view_module_version": "1.5.0",
      "_view_name": "HTMLView",
      "description": "",
      "description_tooltip": null,
      "layout": "IPY_MODEL_68d23a236aba49f3963ba76cccd6afd4",
      "placeholder": "​",
      "style": "IPY_MODEL_7cf76548a1cb4b7da81e0576625270c6",
      "value": " 3771/0 [00:00&lt;00:00, 141357.03 examples/s]"
     }
    },
    "42832af221f547b5ad490703a08139f7": {
     "model_module": "@jupyter-widgets/controls",
     "model_module_version": "1.5.0",
     "model_name": "HTMLModel",
     "state": {
      "_dom_classes": [],
      "_model_module": "@jupyter-widgets/controls",
      "_model_module_version": "1.5.0",
      "_model_name": "HTMLModel",
      "_view_count": null,
      "_view_module": "@jupyter-widgets/controls",
      "_view_module_version": "1.5.0",
      "_view_name": "HTMLView",
      "description": "",
      "description_tooltip": null,
      "layout": "IPY_MODEL_945f84885e8045a79e20e0dd92feef8b",
      "placeholder": "​",
      "style": "IPY_MODEL_8db2342e665140038d4fd40b51dcc40f",
      "value": "Generating train split: "
     }
    },
    "5e9cfd77b0a84adab93a4d6d790a829c": {
     "model_module": "@jupyter-widgets/controls",
     "model_module_version": "1.5.0",
     "model_name": "FloatProgressModel",
     "state": {
      "_dom_classes": [],
      "_model_module": "@jupyter-widgets/controls",
      "_model_module_version": "1.5.0",
      "_model_name": "FloatProgressModel",
      "_view_count": null,
      "_view_module": "@jupyter-widgets/controls",
      "_view_module_version": "1.5.0",
      "_view_name": "ProgressView",
      "bar_style": "success",
      "description": "",
      "description_tooltip": null,
      "layout": "IPY_MODEL_a577987f95ca4938bc25a3ace4e7a746",
      "max": 1,
      "min": 0,
      "orientation": "horizontal",
      "style": "IPY_MODEL_cd6be5b56fda408fbb689d56abe3a3e8",
      "value": 1
     }
    },
    "68d23a236aba49f3963ba76cccd6afd4": {
     "model_module": "@jupyter-widgets/base",
     "model_module_version": "1.2.0",
     "model_name": "LayoutModel",
     "state": {
      "_model_module": "@jupyter-widgets/base",
      "_model_module_version": "1.2.0",
      "_model_name": "LayoutModel",
      "_view_count": null,
      "_view_module": "@jupyter-widgets/base",
      "_view_module_version": "1.2.0",
      "_view_name": "LayoutView",
      "align_content": null,
      "align_items": null,
      "align_self": null,
      "border": null,
      "bottom": null,
      "display": null,
      "flex": null,
      "flex_flow": null,
      "grid_area": null,
      "grid_auto_columns": null,
      "grid_auto_flow": null,
      "grid_auto_rows": null,
      "grid_column": null,
      "grid_gap": null,
      "grid_row": null,
      "grid_template_areas": null,
      "grid_template_columns": null,
      "grid_template_rows": null,
      "height": null,
      "justify_content": null,
      "justify_items": null,
      "left": null,
      "margin": null,
      "max_height": null,
      "max_width": null,
      "min_height": null,
      "min_width": null,
      "object_fit": null,
      "object_position": null,
      "order": null,
      "overflow": null,
      "overflow_x": null,
      "overflow_y": null,
      "padding": null,
      "right": null,
      "top": null,
      "visibility": null,
      "width": null
     }
    },
    "6bdac5dc05d74016928d0320626231f0": {
     "model_module": "@jupyter-widgets/controls",
     "model_module_version": "1.5.0",
     "model_name": "HTMLModel",
     "state": {
      "_dom_classes": [],
      "_model_module": "@jupyter-widgets/controls",
      "_model_module_version": "1.5.0",
      "_model_name": "HTMLModel",
      "_view_count": null,
      "_view_module": "@jupyter-widgets/controls",
      "_view_module_version": "1.5.0",
      "_view_name": "HTMLView",
      "description": "",
      "description_tooltip": null,
      "layout": "IPY_MODEL_02012fd672a44529be15e916f5ec9da1",
      "placeholder": "​",
      "style": "IPY_MODEL_c5186366420d4368b2289087e35dd10e",
      "value": " 21367/0 [00:00&lt;00:00, 226541.76 examples/s]"
     }
    },
    "6d3a0958db41474fbd0afb2747fc6489": {
     "model_module": "@jupyter-widgets/controls",
     "model_module_version": "1.5.0",
     "model_name": "FloatProgressModel",
     "state": {
      "_dom_classes": [],
      "_model_module": "@jupyter-widgets/controls",
      "_model_module_version": "1.5.0",
      "_model_name": "FloatProgressModel",
      "_view_count": null,
      "_view_module": "@jupyter-widgets/controls",
      "_view_module_version": "1.5.0",
      "_view_name": "ProgressView",
      "bar_style": "success",
      "description": "",
      "description_tooltip": null,
      "layout": "IPY_MODEL_1d1f2944836a4ee0a72dad5d6efe942a",
      "max": 1,
      "min": 0,
      "orientation": "horizontal",
      "style": "IPY_MODEL_de65677674894d89a27e69d5f3a8579d",
      "value": 1
     }
    },
    "7cf76548a1cb4b7da81e0576625270c6": {
     "model_module": "@jupyter-widgets/controls",
     "model_module_version": "1.5.0",
     "model_name": "DescriptionStyleModel",
     "state": {
      "_model_module": "@jupyter-widgets/controls",
      "_model_module_version": "1.5.0",
      "_model_name": "DescriptionStyleModel",
      "_view_count": null,
      "_view_module": "@jupyter-widgets/base",
      "_view_module_version": "1.2.0",
      "_view_name": "StyleView",
      "description_width": ""
     }
    },
    "8db2342e665140038d4fd40b51dcc40f": {
     "model_module": "@jupyter-widgets/controls",
     "model_module_version": "1.5.0",
     "model_name": "DescriptionStyleModel",
     "state": {
      "_model_module": "@jupyter-widgets/controls",
      "_model_module_version": "1.5.0",
      "_model_name": "DescriptionStyleModel",
      "_view_count": null,
      "_view_module": "@jupyter-widgets/base",
      "_view_module_version": "1.2.0",
      "_view_name": "StyleView",
      "description_width": ""
     }
    },
    "927d815da5a74c1f993dc33a2333aa97": {
     "model_module": "@jupyter-widgets/controls",
     "model_module_version": "1.5.0",
     "model_name": "HTMLModel",
     "state": {
      "_dom_classes": [],
      "_model_module": "@jupyter-widgets/controls",
      "_model_module_version": "1.5.0",
      "_model_name": "HTMLModel",
      "_view_count": null,
      "_view_module": "@jupyter-widgets/controls",
      "_view_module_version": "1.5.0",
      "_view_name": "HTMLView",
      "description": "",
      "description_tooltip": null,
      "layout": "IPY_MODEL_c3df85de5c1847b5923c1d5ceaf87520",
      "placeholder": "​",
      "style": "IPY_MODEL_e8b44887dd514a898b8eb749963bec9e",
      "value": "Generating test split: "
     }
    },
    "945f84885e8045a79e20e0dd92feef8b": {
     "model_module": "@jupyter-widgets/base",
     "model_module_version": "1.2.0",
     "model_name": "LayoutModel",
     "state": {
      "_model_module": "@jupyter-widgets/base",
      "_model_module_version": "1.2.0",
      "_model_name": "LayoutModel",
      "_view_count": null,
      "_view_module": "@jupyter-widgets/base",
      "_view_module_version": "1.2.0",
      "_view_name": "LayoutView",
      "align_content": null,
      "align_items": null,
      "align_self": null,
      "border": null,
      "bottom": null,
      "display": null,
      "flex": null,
      "flex_flow": null,
      "grid_area": null,
      "grid_auto_columns": null,
      "grid_auto_flow": null,
      "grid_auto_rows": null,
      "grid_column": null,
      "grid_gap": null,
      "grid_row": null,
      "grid_template_areas": null,
      "grid_template_columns": null,
      "grid_template_rows": null,
      "height": null,
      "justify_content": null,
      "justify_items": null,
      "left": null,
      "margin": null,
      "max_height": null,
      "max_width": null,
      "min_height": null,
      "min_width": null,
      "object_fit": null,
      "object_position": null,
      "order": null,
      "overflow": null,
      "overflow_x": null,
      "overflow_y": null,
      "padding": null,
      "right": null,
      "top": null,
      "visibility": null,
      "width": null
     }
    },
    "a577987f95ca4938bc25a3ace4e7a746": {
     "model_module": "@jupyter-widgets/base",
     "model_module_version": "1.2.0",
     "model_name": "LayoutModel",
     "state": {
      "_model_module": "@jupyter-widgets/base",
      "_model_module_version": "1.2.0",
      "_model_name": "LayoutModel",
      "_view_count": null,
      "_view_module": "@jupyter-widgets/base",
      "_view_module_version": "1.2.0",
      "_view_name": "LayoutView",
      "align_content": null,
      "align_items": null,
      "align_self": null,
      "border": null,
      "bottom": null,
      "display": null,
      "flex": null,
      "flex_flow": null,
      "grid_area": null,
      "grid_auto_columns": null,
      "grid_auto_flow": null,
      "grid_auto_rows": null,
      "grid_column": null,
      "grid_gap": null,
      "grid_row": null,
      "grid_template_areas": null,
      "grid_template_columns": null,
      "grid_template_rows": null,
      "height": null,
      "justify_content": null,
      "justify_items": null,
      "left": null,
      "margin": null,
      "max_height": null,
      "max_width": null,
      "min_height": null,
      "min_width": null,
      "object_fit": null,
      "object_position": null,
      "order": null,
      "overflow": null,
      "overflow_x": null,
      "overflow_y": null,
      "padding": null,
      "right": null,
      "top": null,
      "visibility": null,
      "width": "20px"
     }
    },
    "ab6d2806ac9949a9b08e047a36428385": {
     "model_module": "@jupyter-widgets/base",
     "model_module_version": "1.2.0",
     "model_name": "LayoutModel",
     "state": {
      "_model_module": "@jupyter-widgets/base",
      "_model_module_version": "1.2.0",
      "_model_name": "LayoutModel",
      "_view_count": null,
      "_view_module": "@jupyter-widgets/base",
      "_view_module_version": "1.2.0",
      "_view_name": "LayoutView",
      "align_content": null,
      "align_items": null,
      "align_self": null,
      "border": null,
      "bottom": null,
      "display": null,
      "flex": null,
      "flex_flow": null,
      "grid_area": null,
      "grid_auto_columns": null,
      "grid_auto_flow": null,
      "grid_auto_rows": null,
      "grid_column": null,
      "grid_gap": null,
      "grid_row": null,
      "grid_template_areas": null,
      "grid_template_columns": null,
      "grid_template_rows": null,
      "height": null,
      "justify_content": null,
      "justify_items": null,
      "left": null,
      "margin": null,
      "max_height": null,
      "max_width": null,
      "min_height": null,
      "min_width": null,
      "object_fit": null,
      "object_position": null,
      "order": null,
      "overflow": null,
      "overflow_x": null,
      "overflow_y": null,
      "padding": null,
      "right": null,
      "top": null,
      "visibility": null,
      "width": null
     }
    },
    "c3df85de5c1847b5923c1d5ceaf87520": {
     "model_module": "@jupyter-widgets/base",
     "model_module_version": "1.2.0",
     "model_name": "LayoutModel",
     "state": {
      "_model_module": "@jupyter-widgets/base",
      "_model_module_version": "1.2.0",
      "_model_name": "LayoutModel",
      "_view_count": null,
      "_view_module": "@jupyter-widgets/base",
      "_view_module_version": "1.2.0",
      "_view_name": "LayoutView",
      "align_content": null,
      "align_items": null,
      "align_self": null,
      "border": null,
      "bottom": null,
      "display": null,
      "flex": null,
      "flex_flow": null,
      "grid_area": null,
      "grid_auto_columns": null,
      "grid_auto_flow": null,
      "grid_auto_rows": null,
      "grid_column": null,
      "grid_gap": null,
      "grid_row": null,
      "grid_template_areas": null,
      "grid_template_columns": null,
      "grid_template_rows": null,
      "height": null,
      "justify_content": null,
      "justify_items": null,
      "left": null,
      "margin": null,
      "max_height": null,
      "max_width": null,
      "min_height": null,
      "min_width": null,
      "object_fit": null,
      "object_position": null,
      "order": null,
      "overflow": null,
      "overflow_x": null,
      "overflow_y": null,
      "padding": null,
      "right": null,
      "top": null,
      "visibility": null,
      "width": null
     }
    },
    "c5186366420d4368b2289087e35dd10e": {
     "model_module": "@jupyter-widgets/controls",
     "model_module_version": "1.5.0",
     "model_name": "DescriptionStyleModel",
     "state": {
      "_model_module": "@jupyter-widgets/controls",
      "_model_module_version": "1.5.0",
      "_model_name": "DescriptionStyleModel",
      "_view_count": null,
      "_view_module": "@jupyter-widgets/base",
      "_view_module_version": "1.2.0",
      "_view_name": "StyleView",
      "description_width": ""
     }
    },
    "cd6be5b56fda408fbb689d56abe3a3e8": {
     "model_module": "@jupyter-widgets/controls",
     "model_module_version": "1.5.0",
     "model_name": "ProgressStyleModel",
     "state": {
      "_model_module": "@jupyter-widgets/controls",
      "_model_module_version": "1.5.0",
      "_model_name": "ProgressStyleModel",
      "_view_count": null,
      "_view_module": "@jupyter-widgets/base",
      "_view_module_version": "1.2.0",
      "_view_name": "StyleView",
      "bar_color": null,
      "description_width": ""
     }
    },
    "d95c3f8ebc044e3888c0cc39b7400c23": {
     "model_module": "@jupyter-widgets/controls",
     "model_module_version": "1.5.0",
     "model_name": "HBoxModel",
     "state": {
      "_dom_classes": [],
      "_model_module": "@jupyter-widgets/controls",
      "_model_module_version": "1.5.0",
      "_model_name": "HBoxModel",
      "_view_count": null,
      "_view_module": "@jupyter-widgets/controls",
      "_view_module_version": "1.5.0",
      "_view_name": "HBoxView",
      "box_style": "",
      "children": [
       "IPY_MODEL_927d815da5a74c1f993dc33a2333aa97",
       "IPY_MODEL_5e9cfd77b0a84adab93a4d6d790a829c",
       "IPY_MODEL_3d44a72f9c374fee9993feadc941d9ac"
      ],
      "layout": "IPY_MODEL_ab6d2806ac9949a9b08e047a36428385"
     }
    },
    "de65677674894d89a27e69d5f3a8579d": {
     "model_module": "@jupyter-widgets/controls",
     "model_module_version": "1.5.0",
     "model_name": "ProgressStyleModel",
     "state": {
      "_model_module": "@jupyter-widgets/controls",
      "_model_module_version": "1.5.0",
      "_model_name": "ProgressStyleModel",
      "_view_count": null,
      "_view_module": "@jupyter-widgets/base",
      "_view_module_version": "1.2.0",
      "_view_name": "StyleView",
      "bar_color": null,
      "description_width": ""
     }
    },
    "e7c859e480f148f09e9804263b31ebe9": {
     "model_module": "@jupyter-widgets/controls",
     "model_module_version": "1.5.0",
     "model_name": "HBoxModel",
     "state": {
      "_dom_classes": [],
      "_model_module": "@jupyter-widgets/controls",
      "_model_module_version": "1.5.0",
      "_model_name": "HBoxModel",
      "_view_count": null,
      "_view_module": "@jupyter-widgets/controls",
      "_view_module_version": "1.5.0",
      "_view_name": "HBoxView",
      "box_style": "",
      "children": [
       "IPY_MODEL_42832af221f547b5ad490703a08139f7",
       "IPY_MODEL_6d3a0958db41474fbd0afb2747fc6489",
       "IPY_MODEL_6bdac5dc05d74016928d0320626231f0"
      ],
      "layout": "IPY_MODEL_21ee7fbea1104d3a840b8a60a57ccb59"
     }
    },
    "e8b44887dd514a898b8eb749963bec9e": {
     "model_module": "@jupyter-widgets/controls",
     "model_module_version": "1.5.0",
     "model_name": "DescriptionStyleModel",
     "state": {
      "_model_module": "@jupyter-widgets/controls",
      "_model_module_version": "1.5.0",
      "_model_name": "DescriptionStyleModel",
      "_view_count": null,
      "_view_module": "@jupyter-widgets/base",
      "_view_module_version": "1.2.0",
      "_view_name": "StyleView",
      "description_width": ""
     }
    }
   }
  }
 },
 "nbformat": 4,
 "nbformat_minor": 5
}
